{
 "cells": [
  {
   "cell_type": "markdown",
   "metadata": {},
   "source": [
    "# Exercise 01\n",
    "\n",
    "This is your first exercise notebook.\n",
    "\n",
    "\n",
    "## Submission instructions\n",
    "\n",
    "0. Finish the exercise below\n",
    "1. Save the notebook. Click the Floppy Disk icon (\"Save and Checkpoint\").\n",
    "2. Download the notebook to your device. File -> Download as -> Notebook (.ipynb).\n",
    "3. Upload this .ipynb file to Ilias under the correct exercise name."
   ]
  },
  {
   "cell_type": "code",
   "execution_count": 1,
   "metadata": {},
   "outputs": [],
   "source": [
    "# You must run this cell, but you can ignore its contents.\n",
    "\n",
    "import hashlib\n",
    "\n",
    "def ads_hash(ty):\n",
    "    \"\"\"Return a unique string for input\"\"\"\n",
    "    ty_str = str(ty).encode()\n",
    "    m = hashlib.sha256()\n",
    "    m.update(ty_str)\n",
    "    return m.hexdigest()[:10]"
   ]
  },
  {
   "cell_type": "markdown",
   "metadata": {},
   "source": [
    "## Problem 1\n",
    "\n",
    "Assign a value of 42 to the variable named `x`."
   ]
  },
  {
   "cell_type": "code",
   "execution_count": 2,
   "metadata": {},
   "outputs": [],
   "source": [
    "# Write your answer here\n",
    "x=42"
   ]
  },
  {
   "cell_type": "code",
   "execution_count": 3,
   "metadata": {},
   "outputs": [],
   "source": [
    "# This checks that the above worked\n",
    "assert(ads_hash(x)=='73475cb40a')"
   ]
  },
  {
   "cell_type": "markdown",
   "metadata": {},
   "source": [
    "## Problem 2\n",
    "\n",
    "Make the following cell run without an exception."
   ]
  },
  {
   "cell_type": "code",
   "execution_count": 4,
   "metadata": {},
   "outputs": [],
   "source": [
    "# Write your answer here\n",
    "#y = 2 plus 2\n",
    "y=2+2"
   ]
  },
  {
   "cell_type": "code",
   "execution_count": 5,
   "metadata": {},
   "outputs": [],
   "source": [
    "# This checks that the above worked\n",
    "assert(ads_hash(y)=='4b227777d4')"
   ]
  },
  {
   "cell_type": "markdown",
   "metadata": {},
   "source": [
    "## Problem 3\n",
    "\n",
    "Run the following code at the [Python Tutor](http://pythontutor.com/).\n",
    "\n",
    "1. Click on \"Visualize your code and get live help now\" in the Python Tutor website.\n",
    "2. Copy this code into your clipboard:\n",
    "```python\n",
    "x = 42\n",
    "y = x + 42\n",
    "```\n",
    "3. Paste it into the edit window of the Python Tutor.\n",
    "4. Click the \"Visualize Execution\" button of the Python Tutor.\n",
    "5. Click the \"Next button\" until all steps are done.\n",
    "\n",
    "How many variables are in the global frame? Assign the answer to the variable named `answer`."
   ]
  },
  {
   "cell_type": "code",
   "execution_count": 6,
   "metadata": {},
   "outputs": [],
   "source": [
    "# Write your answer here\n",
    "answer=2"
   ]
  },
  {
   "cell_type": "code",
   "execution_count": 7,
   "metadata": {},
   "outputs": [],
   "source": [
    "# This checks that the above worked\n",
    "assert(ads_hash(answer)=='d4735e3a26')"
   ]
  }
 ],
 "metadata": {
  "kernelspec": {
   "display_name": "Python 3",
   "language": "python",
   "name": "python3"
  },
  "language_info": {
   "codemirror_mode": {
    "name": "ipython",
    "version": 3
   },
   "file_extension": ".py",
   "mimetype": "text/x-python",
   "name": "python",
   "nbconvert_exporter": "python",
   "pygments_lexer": "ipython3",
   "version": "3.8.3"
  }
 },
 "nbformat": 4,
 "nbformat_minor": 4
}
