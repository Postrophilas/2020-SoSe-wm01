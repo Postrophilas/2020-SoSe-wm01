{
 "cells": [
  {
   "cell_type": "markdown",
   "metadata": {},
   "source": [
    "# Program the game \"[Rock, paper, scissors\"](https://en.wikipedia.org/wiki/Rock%E2%80%93paper%E2%80%93scissors).\n",
    "\n",
    "<table><tr><td>\n",
    "    <img src=\"https://upload.wikimedia.org/wikipedia/commons/thumb/6/67/Rock-paper-scissors.svg/256px-Rock-paper-scissors.svg.png\" width=\"200\"/></td><td>Image By <a href=\"//commons.wikimedia.org/w/index.php?title=User:Enzoklop&amp;action=edit&amp;redlink=1\" class=\"new\" title=\"User:Enzoklop (page does not exist)\">Enzoklop</a> - <span class=\"int-own-work\" lang=\"en\">Own work</span>, <a href=\"https://creativecommons.org/licenses/by-sa/3.0\" title=\"Creative Commons Attribution-Share Alike 3.0\">CC BY-SA 3.0</a>, <a href=\"https://commons.wikimedia.org/w/index.php?curid=27958688\">Link</a></td></tr></table>\n",
    "\n",
    "We will program a new function called `run_game`. Ultimately, we will do this.\n",
    "\n",
    "  - Get the user's choice with the `get_choice()` function.\n",
    "  - Use the function `random.choice` to generate the computer's choice.\n",
    "  - Based on the computer's choice and the user's choice, compute if the user has a win, a loss, or a draw.\n",
    "  - Return the result (win, loss, or draw).\n",
    "\n",
    "For now, we will take it one step at a time."
   ]
  },
  {
   "cell_type": "code",
   "execution_count": 1,
   "metadata": {},
   "outputs": [],
   "source": [
    "# We need this below\n",
    "import random"
   ]
  },
  {
   "cell_type": "code",
   "execution_count": 2,
   "metadata": {},
   "outputs": [],
   "source": [
    "# You must run this cell, but you can ignore its contents.\n",
    "\n",
    "import hashlib\n",
    "\n",
    "def ads_hash(ty):\n",
    "    \"\"\"Return a unique string for input\"\"\"\n",
    "    ty_str = str(ty).encode()\n",
    "    m = hashlib.sha256()\n",
    "    m.update(ty_str)\n",
    "    return m.hexdigest()[:10]"
   ]
  },
  {
   "cell_type": "markdown",
   "metadata": {},
   "source": [
    "## Q1 Create a variable `options` which is a list with three strings: \"rock\", \"paper\" and \"scissors\""
   ]
  },
  {
   "cell_type": "code",
   "execution_count": 3,
   "metadata": {},
   "outputs": [],
   "source": [
    "# type your answer here\n",
    "options = ['rock', 'paper', 'scissors']"
   ]
  },
  {
   "cell_type": "code",
   "execution_count": 4,
   "metadata": {},
   "outputs": [],
   "source": [
    "# this checks your code above\n",
    "assert type(options)==list\n",
    "assert len(options)==3\n",
    "assert 'rock' in options\n",
    "assert 'paper' in options\n",
    "assert 'scissors' in options"
   ]
  },
  {
   "cell_type": "markdown",
   "metadata": {},
   "source": [
    "## Q2 Create the function `get_choice()`.\n",
    "\n",
    "Copy this from the lecture \"02 bools, equality, coercion, blocks, control flow, functions, string formatting, scopes, dicts\"."
   ]
  },
  {
   "cell_type": "code",
   "execution_count": 5,
   "metadata": {},
   "outputs": [],
   "source": [
    "# Type your answer here\n",
    "def get_choice(n, options=None):\n",
    "    \"\"\"get input from user to select a number between 0 and n\"\"\"\n",
    "    if options == None:\n",
    "        display_options = []\n",
    "        for i in range(n):\n",
    "            display_options.append(\"Option {}\".format(i))\n",
    "    else:\n",
    "        display_options = options\n",
    "    \n",
    "    while True:\n",
    "        print(\"please enter a number between 0 and {}\".format(n-1))\n",
    "        for i in range(n):\n",
    "            print(\"  {} - {}\".format(i,display_options[i]))\n",
    "        print(\"please enter your value here\")\n",
    "        value_str = input()\n",
    "        try:\n",
    "            value_int = int(value_str)\n",
    "        except:\n",
    "            print(\"I could not convert {} to an integer\".format(value_str))\n",
    "            continue\n",
    "        if value_int < 0:\n",
    "            print(\"input must be 0 or more\")\n",
    "            continue\n",
    "        if value_int >= n:\n",
    "            print(\"input must be less than n\")\n",
    "            continue\n",
    "        return value_int"
   ]
  },
  {
   "cell_type": "code",
   "execution_count": 6,
   "metadata": {},
   "outputs": [],
   "source": [
    "# This checks that your function is a function\n",
    "import types\n",
    "assert type(get_choice)==types.FunctionType"
   ]
  },
  {
   "cell_type": "code",
   "execution_count": 7,
   "metadata": {},
   "outputs": [
    {
     "name": "stdout",
     "output_type": "stream",
     "text": [
      "please enter a number between 0 and 2\n",
      "  0 - Option 0\n",
      "  1 - Option 1\n",
      "  2 - Option 2\n",
      "please enter your value here\n",
      "1\n"
     ]
    },
    {
     "data": {
      "text/plain": [
       "1"
      ]
     },
     "execution_count": 7,
     "metadata": {},
     "output_type": "execute_result"
    }
   ],
   "source": [
    "get_choice(3)"
   ]
  },
  {
   "cell_type": "markdown",
   "metadata": {},
   "source": [
    "## Q3 What is the return type of `get_choice()`?"
   ]
  },
  {
   "cell_type": "code",
   "execution_count": 8,
   "metadata": {},
   "outputs": [
    {
     "data": {
      "text/plain": [
       "int"
      ]
     },
     "execution_count": 8,
     "metadata": {},
     "output_type": "execute_result"
    }
   ],
   "source": [
    "# type your answer here\n",
    "int"
   ]
  },
  {
   "cell_type": "code",
   "execution_count": 9,
   "metadata": {},
   "outputs": [],
   "source": [
    "# this checks your code above\n",
    "assert ads_hash(str(_))=='f918a1a5ca'"
   ]
  },
  {
   "cell_type": "markdown",
   "metadata": {},
   "source": [
    "## Q4 Make a function `get_computer_choice()` which takes no arguments  and returns a random value of `0`, `1` or `2`.\n",
    "\n",
    "Hint: use `random.choice()` inside your new function."
   ]
  },
  {
   "cell_type": "code",
   "execution_count": 10,
   "metadata": {},
   "outputs": [],
   "source": [
    "# type your answer here\n",
    "def get_computer_choice():\n",
    "    return random.choice((0,1,2))"
   ]
  },
  {
   "cell_type": "code",
   "execution_count": 11,
   "metadata": {},
   "outputs": [],
   "source": [
    "# this checks your code above\n",
    "answers = set()\n",
    "for _ in range(1000):\n",
    "    val = get_computer_choice()\n",
    "    answers.add(val)\n",
    "answers = list(answers)\n",
    "answers.sort()\n",
    "assert answers==[0,1,2]"
   ]
  },
  {
   "cell_type": "markdown",
   "metadata": {},
   "source": [
    "## Q5 Make a function `compute_winner(user_choice, computer_choice)` which returns a string 'win', 'draw' or 'lose'"
   ]
  },
  {
   "cell_type": "code",
   "execution_count": 12,
   "metadata": {},
   "outputs": [],
   "source": [
    "# type your answer here\n",
    "def compute_winner(user_choice, computer_choice):\n",
    "    user = options[user_choice]\n",
    "    computer = options[computer_choice]\n",
    "    if user=='rock':\n",
    "        if computer == 'rock':\n",
    "            return 'draw'\n",
    "        elif computer == 'paper':\n",
    "            return 'lose'\n",
    "        else:\n",
    "            assert computer == 'scissors'\n",
    "            return 'win'\n",
    "    elif user=='paper':\n",
    "        if computer=='rock':\n",
    "            return 'win'\n",
    "        elif computer=='paper':\n",
    "            return 'draw'\n",
    "        else:\n",
    "            assert computer=='scissors'\n",
    "            return 'lose'\n",
    "    else:\n",
    "        assert user=='scissors'\n",
    "        if computer=='rock':\n",
    "            return 'lose'\n",
    "        elif computer=='paper':\n",
    "            return 'win'\n",
    "        else:\n",
    "            assert computer=='scissors'\n",
    "            return 'draw'"
   ]
  },
  {
   "cell_type": "code",
   "execution_count": 13,
   "metadata": {},
   "outputs": [],
   "source": [
    "# this checks your code above\n",
    "assert type(compute_winner(0,0))==str\n",
    "\n",
    "def verify_outcomes(outcomes):\n",
    "    outcomes = list(set(outcomes))\n",
    "    outcomes.sort()\n",
    "    assert outcomes==['draw','lose','win']\n",
    "verify_outcomes([compute_winner(i,0) for i in range(3)])\n",
    "verify_outcomes([compute_winner(i,1) for i in range(3)])\n",
    "verify_outcomes([compute_winner(i,2) for i in range(3)])\n",
    "assert compute_winner(options.index('rock'), options.index('paper'))=='lose'\n",
    "assert compute_winner(options.index('rock'), options.index('scissors'))=='win'"
   ]
  },
  {
   "cell_type": "markdown",
   "metadata": {},
   "source": [
    "## Q6 Now write a cell in the Jupyter notebook plays a single round of the game\n",
    "\n",
    "1. Compute the computers choice (but do not show it)\n",
    "2. Ask the user for her choice\n",
    "3. Print the computer's choice\n",
    "4. Compute if the user won and print the result."
   ]
  },
  {
   "cell_type": "code",
   "execution_count": 14,
   "metadata": {},
   "outputs": [
    {
     "name": "stdout",
     "output_type": "stream",
     "text": [
      "please enter a number between 0 and 2\n",
      "  0 - rock\n",
      "  1 - paper\n",
      "  2 - scissors\n",
      "please enter your value here\n",
      "1\n",
      "the computer chose rock\n",
      "your result: win\n"
     ]
    }
   ],
   "source": [
    "# type your answer here\n",
    "computer_choice = get_computer_choice()\n",
    "user_choice = get_choice(3, options)\n",
    "print('the computer chose {}'.format(options[computer_choice]))\n",
    "result = compute_winner(user_choice, computer_choice)\n",
    "print('your result: {}'.format(result))"
   ]
  }
 ],
 "metadata": {
  "kernelspec": {
   "display_name": "Python 3",
   "language": "python",
   "name": "python3"
  },
  "language_info": {
   "codemirror_mode": {
    "name": "ipython",
    "version": 3
   },
   "file_extension": ".py",
   "mimetype": "text/x-python",
   "name": "python",
   "nbconvert_exporter": "python",
   "pygments_lexer": "ipython3",
   "version": "3.8.3"
  }
 },
 "nbformat": 4,
 "nbformat_minor": 4
}
